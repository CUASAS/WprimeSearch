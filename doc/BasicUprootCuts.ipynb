{
 "cells": [
  {
   "cell_type": "markdown",
   "metadata": {},
   "source": [
    "## Applying cuts on root files"
   ]
  },
  {
   "cell_type": "code",
   "execution_count": 2,
   "metadata": {},
   "outputs": [],
   "source": [
    "import uproot\n",
    "import pandas as pd"
   ]
  },
  {
   "cell_type": "markdown",
   "metadata": {},
   "source": [
    "Open file"
   ]
  },
  {
   "cell_type": "code",
   "execution_count": 3,
   "metadata": {},
   "outputs": [],
   "source": [
    "# Requires voms proxy \n",
    "f = uproot.open(\"root://cmsxrootd.fnal.gov///store/mc/RunIIFall17NanoAODv6/DYToMuMu_M-800To1400_NNPDF30NLO_TuneCUETP8M1_13TeV-pythia8/NANOAODSIM/PU2017_12Apr2018_Nano25Oct2019_102X_mc2017_realistic_v7-v1/270000/63314D13-DEFE-B44D-949B-8E61BD82A5A2.root\")"
   ]
  },
  {
   "cell_type": "markdown",
   "metadata": {},
   "source": [
    "List file content"
   ]
  },
  {
   "cell_type": "code",
   "execution_count": 4,
   "metadata": {},
   "outputs": [
    {
     "data": {
      "text/plain": [
       "[b'tag;1',\n",
       " b'Events;1',\n",
       " b'LuminosityBlocks;1',\n",
       " b'Runs;1',\n",
       " b'MetaData;1',\n",
       " b'ParameterSets;1']"
      ]
     },
     "execution_count": 4,
     "metadata": {},
     "output_type": "execute_result"
    }
   ],
   "source": [
    "f.allkeys()"
   ]
  },
  {
   "cell_type": "markdown",
   "metadata": {},
   "source": [
    "Define tree"
   ]
  },
  {
   "cell_type": "code",
   "execution_count": 5,
   "metadata": {},
   "outputs": [],
   "source": [
    "t = f[\"Events\"]"
   ]
  },
  {
   "cell_type": "markdown",
   "metadata": {},
   "source": [
    "Create a dataframe from branch info within the tree. It may take a while"
   ]
  },
  {
   "cell_type": "code",
   "execution_count": 16,
   "metadata": {},
   "outputs": [],
   "source": [
    "# This may take forever depending on the size of the tree (t)\n",
    "df = t.arrays([\"nJet\",\n",
    "               \"nElectron\",\"Electron_charge\",\"Electron_pt\",\n",
    "               \"nMuon\",\"Muon_charge\",\"Muon_pt\"], outputtype=pd.DataFrame)"
   ]
  },
  {
   "cell_type": "code",
   "execution_count": 17,
   "metadata": {},
   "outputs": [
    {
     "data": {
      "text/html": [
       "<div>\n",
       "<style scoped>\n",
       "    .dataframe tbody tr th:only-of-type {\n",
       "        vertical-align: middle;\n",
       "    }\n",
       "\n",
       "    .dataframe tbody tr th {\n",
       "        vertical-align: top;\n",
       "    }\n",
       "\n",
       "    .dataframe thead th {\n",
       "        text-align: right;\n",
       "    }\n",
       "</style>\n",
       "<table border=\"1\" class=\"dataframe\">\n",
       "  <thead>\n",
       "    <tr style=\"text-align: right;\">\n",
       "      <th></th>\n",
       "      <th>nJet</th>\n",
       "      <th>nElectron</th>\n",
       "      <th>Electron_charge</th>\n",
       "      <th>Electron_pt</th>\n",
       "      <th>nMuon</th>\n",
       "      <th>Muon_charge</th>\n",
       "      <th>Muon_pt</th>\n",
       "    </tr>\n",
       "    <tr>\n",
       "      <th>entry</th>\n",
       "      <th></th>\n",
       "      <th></th>\n",
       "      <th></th>\n",
       "      <th></th>\n",
       "      <th></th>\n",
       "      <th></th>\n",
       "      <th></th>\n",
       "    </tr>\n",
       "  </thead>\n",
       "  <tbody>\n",
       "    <tr>\n",
       "      <th>0</th>\n",
       "      <td>6</td>\n",
       "      <td>0</td>\n",
       "      <td>[]</td>\n",
       "      <td>[]</td>\n",
       "      <td>1</td>\n",
       "      <td>[1]</td>\n",
       "      <td>[197.0023]</td>\n",
       "    </tr>\n",
       "    <tr>\n",
       "      <th>1</th>\n",
       "      <td>8</td>\n",
       "      <td>1</td>\n",
       "      <td>[-1]</td>\n",
       "      <td>[8.547187]</td>\n",
       "      <td>2</td>\n",
       "      <td>[1, -1]</td>\n",
       "      <td>[255.84554, 194.80261]</td>\n",
       "    </tr>\n",
       "    <tr>\n",
       "      <th>2</th>\n",
       "      <td>2</td>\n",
       "      <td>0</td>\n",
       "      <td>[]</td>\n",
       "      <td>[]</td>\n",
       "      <td>1</td>\n",
       "      <td>[-1]</td>\n",
       "      <td>[121.58706]</td>\n",
       "    </tr>\n",
       "    <tr>\n",
       "      <th>3</th>\n",
       "      <td>5</td>\n",
       "      <td>0</td>\n",
       "      <td>[]</td>\n",
       "      <td>[]</td>\n",
       "      <td>2</td>\n",
       "      <td>[1, -1]</td>\n",
       "      <td>[448.831, 384.9482]</td>\n",
       "    </tr>\n",
       "    <tr>\n",
       "      <th>4</th>\n",
       "      <td>5</td>\n",
       "      <td>0</td>\n",
       "      <td>[]</td>\n",
       "      <td>[]</td>\n",
       "      <td>2</td>\n",
       "      <td>[1, -1]</td>\n",
       "      <td>[273.683, 199.05408]</td>\n",
       "    </tr>\n",
       "  </tbody>\n",
       "</table>\n",
       "</div>"
      ],
      "text/plain": [
       "       nJet  nElectron Electron_charge Electron_pt  nMuon Muon_charge  \\\n",
       "entry                                                                   \n",
       "0         6          0              []          []      1         [1]   \n",
       "1         8          1            [-1]  [8.547187]      2     [1, -1]   \n",
       "2         2          0              []          []      1        [-1]   \n",
       "3         5          0              []          []      2     [1, -1]   \n",
       "4         5          0              []          []      2     [1, -1]   \n",
       "\n",
       "                      Muon_pt  \n",
       "entry                          \n",
       "0                  [197.0023]  \n",
       "1      [255.84554, 194.80261]  \n",
       "2                 [121.58706]  \n",
       "3         [448.831, 384.9482]  \n",
       "4        [273.683, 199.05408]  "
      ]
     },
     "execution_count": 17,
     "metadata": {},
     "output_type": "execute_result"
    }
   ],
   "source": [
    "df.head()"
   ]
  },
  {
   "cell_type": "markdown",
   "metadata": {},
   "source": [
    "Selecting events containing more than 1 electrons(positrons)"
   ]
  },
  {
   "cell_type": "code",
   "execution_count": 18,
   "metadata": {},
   "outputs": [
    {
     "data": {
      "text/html": [
       "<div>\n",
       "<style scoped>\n",
       "    .dataframe tbody tr th:only-of-type {\n",
       "        vertical-align: middle;\n",
       "    }\n",
       "\n",
       "    .dataframe tbody tr th {\n",
       "        vertical-align: top;\n",
       "    }\n",
       "\n",
       "    .dataframe thead th {\n",
       "        text-align: right;\n",
       "    }\n",
       "</style>\n",
       "<table border=\"1\" class=\"dataframe\">\n",
       "  <thead>\n",
       "    <tr style=\"text-align: right;\">\n",
       "      <th></th>\n",
       "      <th>nJet</th>\n",
       "      <th>nElectron</th>\n",
       "      <th>Electron_charge</th>\n",
       "      <th>Electron_pt</th>\n",
       "      <th>nMuon</th>\n",
       "      <th>Muon_charge</th>\n",
       "      <th>Muon_pt</th>\n",
       "    </tr>\n",
       "    <tr>\n",
       "      <th>entry</th>\n",
       "      <th></th>\n",
       "      <th></th>\n",
       "      <th></th>\n",
       "      <th></th>\n",
       "      <th></th>\n",
       "      <th></th>\n",
       "      <th></th>\n",
       "    </tr>\n",
       "  </thead>\n",
       "  <tbody>\n",
       "    <tr>\n",
       "      <th>40</th>\n",
       "      <td>10</td>\n",
       "      <td>2</td>\n",
       "      <td>[-1, 1]</td>\n",
       "      <td>[8.173346, 7.5817924]</td>\n",
       "      <td>2</td>\n",
       "      <td>[1, -1]</td>\n",
       "      <td>[470.22583, 467.3939]</td>\n",
       "    </tr>\n",
       "    <tr>\n",
       "      <th>62</th>\n",
       "      <td>5</td>\n",
       "      <td>2</td>\n",
       "      <td>[1, 1]</td>\n",
       "      <td>[10.450915, 7.7716017]</td>\n",
       "      <td>2</td>\n",
       "      <td>[1, -1]</td>\n",
       "      <td>[395.7405, 333.15588]</td>\n",
       "    </tr>\n",
       "    <tr>\n",
       "      <th>72</th>\n",
       "      <td>5</td>\n",
       "      <td>2</td>\n",
       "      <td>[1, -1]</td>\n",
       "      <td>[11.284711, 5.79293]</td>\n",
       "      <td>2</td>\n",
       "      <td>[-1, 1]</td>\n",
       "      <td>[393.90927, 385.1408]</td>\n",
       "    </tr>\n",
       "    <tr>\n",
       "      <th>74</th>\n",
       "      <td>4</td>\n",
       "      <td>2</td>\n",
       "      <td>[-1, 1]</td>\n",
       "      <td>[107.81476, 8.242768]</td>\n",
       "      <td>2</td>\n",
       "      <td>[1, -1]</td>\n",
       "      <td>[398.50064, 195.02525]</td>\n",
       "    </tr>\n",
       "    <tr>\n",
       "      <th>99</th>\n",
       "      <td>6</td>\n",
       "      <td>2</td>\n",
       "      <td>[-1, 1]</td>\n",
       "      <td>[6.780763, 6.1730275]</td>\n",
       "      <td>2</td>\n",
       "      <td>[1, -1]</td>\n",
       "      <td>[536.0136, 468.1409]</td>\n",
       "    </tr>\n",
       "  </tbody>\n",
       "</table>\n",
       "</div>"
      ],
      "text/plain": [
       "       nJet  nElectron Electron_charge             Electron_pt  nMuon  \\\n",
       "entry                                                                   \n",
       "40       10          2         [-1, 1]   [8.173346, 7.5817924]      2   \n",
       "62        5          2          [1, 1]  [10.450915, 7.7716017]      2   \n",
       "72        5          2         [1, -1]    [11.284711, 5.79293]      2   \n",
       "74        4          2         [-1, 1]   [107.81476, 8.242768]      2   \n",
       "99        6          2         [-1, 1]   [6.780763, 6.1730275]      2   \n",
       "\n",
       "      Muon_charge                 Muon_pt  \n",
       "entry                                      \n",
       "40        [1, -1]   [470.22583, 467.3939]  \n",
       "62        [1, -1]   [395.7405, 333.15588]  \n",
       "72        [-1, 1]   [393.90927, 385.1408]  \n",
       "74        [1, -1]  [398.50064, 195.02525]  \n",
       "99        [1, -1]    [536.0136, 468.1409]  "
      ]
     },
     "execution_count": 18,
     "metadata": {},
     "output_type": "execute_result"
    }
   ],
   "source": [
    "df[df[\"nElectron\"]>1].head()"
   ]
  },
  {
   "cell_type": "markdown",
   "metadata": {},
   "source": [
    "Defining a filter so we can filter electrons out:"
   ]
  },
  {
   "cell_type": "code",
   "execution_count": 19,
   "metadata": {},
   "outputs": [
    {
     "data": {
      "text/plain": [
       "entry\n",
       "40     [True, False]\n",
       "62    [False, False]\n",
       "72     [False, True]\n",
       "74     [True, False]\n",
       "99     [True, False]\n",
       "Name: Electron_charge, dtype: object"
      ]
     },
     "execution_count": 19,
     "metadata": {},
     "output_type": "execute_result"
    }
   ],
   "source": [
    "df[\n",
    "    df[\"nElectron\"]>1\n",
    "][\"Electron_charge\"].apply(lambda x: x == -1).head()"
   ]
  },
  {
   "cell_type": "markdown",
   "metadata": {},
   "source": [
    "Defining a filter so all events are selected if they have *at least* one electron"
   ]
  },
  {
   "cell_type": "code",
   "execution_count": 20,
   "metadata": {},
   "outputs": [
    {
     "data": {
      "text/plain": [
       "entry\n",
       "40     True\n",
       "62    False\n",
       "72     True\n",
       "74     True\n",
       "99     True\n",
       "Name: Electron_charge, dtype: bool"
      ]
     },
     "execution_count": 20,
     "metadata": {},
     "output_type": "execute_result"
    }
   ],
   "source": [
    "df[\n",
    "    df[\"nElectron\"]>1\n",
    "][\"Electron_charge\"].apply(lambda x: any(x == -1)).head()"
   ]
  },
  {
   "cell_type": "markdown",
   "metadata": {},
   "source": [
    "Combining filters"
   ]
  },
  {
   "cell_type": "code",
   "execution_count": 21,
   "metadata": {},
   "outputs": [
    {
     "data": {
      "text/html": [
       "<div>\n",
       "<style scoped>\n",
       "    .dataframe tbody tr th:only-of-type {\n",
       "        vertical-align: middle;\n",
       "    }\n",
       "\n",
       "    .dataframe tbody tr th {\n",
       "        vertical-align: top;\n",
       "    }\n",
       "\n",
       "    .dataframe thead th {\n",
       "        text-align: right;\n",
       "    }\n",
       "</style>\n",
       "<table border=\"1\" class=\"dataframe\">\n",
       "  <thead>\n",
       "    <tr style=\"text-align: right;\">\n",
       "      <th></th>\n",
       "      <th>nJet</th>\n",
       "      <th>nElectron</th>\n",
       "      <th>Electron_charge</th>\n",
       "      <th>Electron_pt</th>\n",
       "      <th>nMuon</th>\n",
       "      <th>Muon_charge</th>\n",
       "      <th>Muon_pt</th>\n",
       "    </tr>\n",
       "    <tr>\n",
       "      <th>entry</th>\n",
       "      <th></th>\n",
       "      <th></th>\n",
       "      <th></th>\n",
       "      <th></th>\n",
       "      <th></th>\n",
       "      <th></th>\n",
       "      <th></th>\n",
       "    </tr>\n",
       "  </thead>\n",
       "  <tbody>\n",
       "    <tr>\n",
       "      <th>40</th>\n",
       "      <td>10</td>\n",
       "      <td>2</td>\n",
       "      <td>[-1, 1]</td>\n",
       "      <td>[8.173346, 7.5817924]</td>\n",
       "      <td>2</td>\n",
       "      <td>[1, -1]</td>\n",
       "      <td>[470.22583, 467.3939]</td>\n",
       "    </tr>\n",
       "    <tr>\n",
       "      <th>72</th>\n",
       "      <td>5</td>\n",
       "      <td>2</td>\n",
       "      <td>[1, -1]</td>\n",
       "      <td>[11.284711, 5.79293]</td>\n",
       "      <td>2</td>\n",
       "      <td>[-1, 1]</td>\n",
       "      <td>[393.90927, 385.1408]</td>\n",
       "    </tr>\n",
       "    <tr>\n",
       "      <th>74</th>\n",
       "      <td>4</td>\n",
       "      <td>2</td>\n",
       "      <td>[-1, 1]</td>\n",
       "      <td>[107.81476, 8.242768]</td>\n",
       "      <td>2</td>\n",
       "      <td>[1, -1]</td>\n",
       "      <td>[398.50064, 195.02525]</td>\n",
       "    </tr>\n",
       "    <tr>\n",
       "      <th>99</th>\n",
       "      <td>6</td>\n",
       "      <td>2</td>\n",
       "      <td>[-1, 1]</td>\n",
       "      <td>[6.780763, 6.1730275]</td>\n",
       "      <td>2</td>\n",
       "      <td>[1, -1]</td>\n",
       "      <td>[536.0136, 468.1409]</td>\n",
       "    </tr>\n",
       "    <tr>\n",
       "      <th>146</th>\n",
       "      <td>11</td>\n",
       "      <td>2</td>\n",
       "      <td>[-1, -1]</td>\n",
       "      <td>[8.870316, 5.37845]</td>\n",
       "      <td>3</td>\n",
       "      <td>[1, -1, 1]</td>\n",
       "      <td>[488.42624, 431.7626, 76.831]</td>\n",
       "    </tr>\n",
       "  </tbody>\n",
       "</table>\n",
       "</div>"
      ],
      "text/plain": [
       "       nJet  nElectron Electron_charge            Electron_pt  nMuon  \\\n",
       "entry                                                                  \n",
       "40       10          2         [-1, 1]  [8.173346, 7.5817924]      2   \n",
       "72        5          2         [1, -1]   [11.284711, 5.79293]      2   \n",
       "74        4          2         [-1, 1]  [107.81476, 8.242768]      2   \n",
       "99        6          2         [-1, 1]  [6.780763, 6.1730275]      2   \n",
       "146      11          2        [-1, -1]    [8.870316, 5.37845]      3   \n",
       "\n",
       "      Muon_charge                        Muon_pt  \n",
       "entry                                             \n",
       "40        [1, -1]          [470.22583, 467.3939]  \n",
       "72        [-1, 1]          [393.90927, 385.1408]  \n",
       "74        [1, -1]         [398.50064, 195.02525]  \n",
       "99        [1, -1]           [536.0136, 468.1409]  \n",
       "146    [1, -1, 1]  [488.42624, 431.7626, 76.831]  "
      ]
     },
     "execution_count": 21,
     "metadata": {},
     "output_type": "execute_result"
    }
   ],
   "source": [
    "df[\n",
    "    (df[\"nElectron\"]>1)\n",
    "    &\n",
    "    (df[\"Electron_charge\"].apply(lambda x: any(x == -1)))\n",
    "].head()"
   ]
  },
  {
   "cell_type": "markdown",
   "metadata": {},
   "source": [
    "Plotting"
   ]
  },
  {
   "cell_type": "code",
   "execution_count": 22,
   "metadata": {},
   "outputs": [
    {
     "data": {
      "text/plain": [
       "<matplotlib.axes._subplots.AxesSubplot at 0x7f3e651efb70>"
      ]
     },
     "execution_count": 22,
     "metadata": {},
     "output_type": "execute_result"
    },
    {
     "data": {
      "image/png": "[encoded data removed]",
      "text/plain": [
       "<Figure size 432x288 with 1 Axes>"
      ]
     },
     "metadata": {
      "needs_background": "light"
     },
     "output_type": "display_data"
    }
   ],
   "source": [
    "df[\n",
    "    (df[\"Electron_charge\"].apply(lambda x: any(x == -1)))\n",
    "][\"nJet\"].plot(kind=\"hist\",bins=range(0,25))"
   ]
  },
  {
   "cell_type": "markdown",
   "metadata": {},
   "source": [
    "### Another filter: Containing only electrons"
   ]
  },
  {
   "cell_type": "code",
   "execution_count": 24,
   "metadata": {},
   "outputs": [
    {
     "data": {
      "text/plain": [
       "<matplotlib.axes._subplots.AxesSubplot at 0x7f3e642a5940>"
      ]
     },
     "execution_count": 24,
     "metadata": {},
     "output_type": "execute_result"
    },
    {
     "data": {
      "image/png": "[encoded data removed]",
      "text/plain": [
       "<Figure size 432x288 with 1 Axes>"
      ]
     },
     "metadata": {
      "needs_background": "light"
     },
     "output_type": "display_data"
    }
   ],
   "source": [
    "df[\n",
    "    (df[\"Electron_charge\"].apply(lambda x: all(x == -1)))\n",
    "][\"nJet\"].plot(kind=\"hist\",bins=range(0,25))"
   ]
  },
  {
   "cell_type": "markdown",
   "metadata": {},
   "source": [
    "### Containing two electrons at least"
   ]
  },
  {
   "cell_type": "code",
   "execution_count": 28,
   "metadata": {},
   "outputs": [],
   "source": [
    "twoElectrons = df[\"Electron_charge\"].apply(lambda x : ((len(x)-2) > sum(x)))"
   ]
  },
  {
   "cell_type": "code",
   "execution_count": 29,
   "metadata": {},
   "outputs": [
    {
     "data": {
      "text/html": [
       "<div>\n",
       "<style scoped>\n",
       "    .dataframe tbody tr th:only-of-type {\n",
       "        vertical-align: middle;\n",
       "    }\n",
       "\n",
       "    .dataframe tbody tr th {\n",
       "        vertical-align: top;\n",
       "    }\n",
       "\n",
       "    .dataframe thead th {\n",
       "        text-align: right;\n",
       "    }\n",
       "</style>\n",
       "<table border=\"1\" class=\"dataframe\">\n",
       "  <thead>\n",
       "    <tr style=\"text-align: right;\">\n",
       "      <th></th>\n",
       "      <th>nJet</th>\n",
       "      <th>nElectron</th>\n",
       "      <th>Electron_charge</th>\n",
       "      <th>Electron_pt</th>\n",
       "      <th>nMuon</th>\n",
       "      <th>Muon_charge</th>\n",
       "      <th>Muon_pt</th>\n",
       "    </tr>\n",
       "    <tr>\n",
       "      <th>entry</th>\n",
       "      <th></th>\n",
       "      <th></th>\n",
       "      <th></th>\n",
       "      <th></th>\n",
       "      <th></th>\n",
       "      <th></th>\n",
       "      <th></th>\n",
       "    </tr>\n",
       "  </thead>\n",
       "  <tbody>\n",
       "    <tr>\n",
       "      <th>146</th>\n",
       "      <td>11</td>\n",
       "      <td>2</td>\n",
       "      <td>[-1, -1]</td>\n",
       "      <td>[8.870316, 5.37845]</td>\n",
       "      <td>3</td>\n",
       "      <td>[1, -1, 1]</td>\n",
       "      <td>[488.42624, 431.7626, 76.831]</td>\n",
       "    </tr>\n",
       "    <tr>\n",
       "      <th>201</th>\n",
       "      <td>8</td>\n",
       "      <td>4</td>\n",
       "      <td>[1, -1, -1, 1]</td>\n",
       "      <td>[26.767668, 10.201869, 9.128413, 7.7696815]</td>\n",
       "      <td>2</td>\n",
       "      <td>[1, -1]</td>\n",
       "      <td>[569.57855, 563.3358]</td>\n",
       "    </tr>\n",
       "    <tr>\n",
       "      <th>302</th>\n",
       "      <td>6</td>\n",
       "      <td>2</td>\n",
       "      <td>[-1, -1]</td>\n",
       "      <td>[12.010416, 10.369589]</td>\n",
       "      <td>2</td>\n",
       "      <td>[1, -1]</td>\n",
       "      <td>[595.10864, 432.8126]</td>\n",
       "    </tr>\n",
       "    <tr>\n",
       "      <th>419</th>\n",
       "      <td>6</td>\n",
       "      <td>2</td>\n",
       "      <td>[-1, -1]</td>\n",
       "      <td>[5.7961407, 5.0853767]</td>\n",
       "      <td>2</td>\n",
       "      <td>[1, -1]</td>\n",
       "      <td>[467.05682, 441.8586]</td>\n",
       "    </tr>\n",
       "    <tr>\n",
       "      <th>894</th>\n",
       "      <td>8</td>\n",
       "      <td>2</td>\n",
       "      <td>[-1, -1]</td>\n",
       "      <td>[12.432208, 11.08706]</td>\n",
       "      <td>2</td>\n",
       "      <td>[1, -1]</td>\n",
       "      <td>[573.36206, 386.0919]</td>\n",
       "    </tr>\n",
       "  </tbody>\n",
       "</table>\n",
       "</div>"
      ],
      "text/plain": [
       "       nJet  nElectron Electron_charge  \\\n",
       "entry                                    \n",
       "146      11          2        [-1, -1]   \n",
       "201       8          4  [1, -1, -1, 1]   \n",
       "302       6          2        [-1, -1]   \n",
       "419       6          2        [-1, -1]   \n",
       "894       8          2        [-1, -1]   \n",
       "\n",
       "                                       Electron_pt  nMuon Muon_charge  \\\n",
       "entry                                                                   \n",
       "146                            [8.870316, 5.37845]      3  [1, -1, 1]   \n",
       "201    [26.767668, 10.201869, 9.128413, 7.7696815]      2     [1, -1]   \n",
       "302                         [12.010416, 10.369589]      2     [1, -1]   \n",
       "419                         [5.7961407, 5.0853767]      2     [1, -1]   \n",
       "894                          [12.432208, 11.08706]      2     [1, -1]   \n",
       "\n",
       "                             Muon_pt  \n",
       "entry                                 \n",
       "146    [488.42624, 431.7626, 76.831]  \n",
       "201            [569.57855, 563.3358]  \n",
       "302            [595.10864, 432.8126]  \n",
       "419            [467.05682, 441.8586]  \n",
       "894            [573.36206, 386.0919]  "
      ]
     },
     "execution_count": 29,
     "metadata": {},
     "output_type": "execute_result"
    }
   ],
   "source": [
    "df[twoElectrons].head()"
   ]
  },
  {
   "cell_type": "code",
   "execution_count": 30,
   "metadata": {},
   "outputs": [
    {
     "data": {
      "text/plain": [
       "<matplotlib.axes._subplots.AxesSubplot at 0x7f3e641ce5c0>"
      ]
     },
     "execution_count": 30,
     "metadata": {},
     "output_type": "execute_result"
    },
    {
     "data": {
      "image/png": "[encoded data removed]",
      "text/plain": [
       "<Figure size 432x288 with 1 Axes>"
      ]
     },
     "metadata": {
      "needs_background": "light"
     },
     "output_type": "display_data"
    }
   ],
   "source": [
    "df[twoElectrons][\"nJet\"].plot(kind=\"hist\",bins=range(0,25))"
   ]
  },
  {
   "cell_type": "markdown",
   "metadata": {},
   "source": [
    "### Range based cut"
   ]
  },
  {
   "cell_type": "code",
   "execution_count": 31,
   "metadata": {},
   "outputs": [],
   "source": [
    "def anyCut(x, minn , maxx):\n",
    "    \n",
    "    # True if any element in x lies within (minn,maxx)\n",
    "    \n",
    "    for i in x:\n",
    "        if i > minn and i < maxx:\n",
    "            return True\n",
    "    return False\n",
    "\n",
    "def allCut(x, minn, maxx):\n",
    "    \n",
    "    # True if all elements in x lies within (minn,maxx)\n",
    "    \n",
    "    for i in x:\n",
    "        if i < minn or i > maxx:\n",
    "            return False    \n",
    "    return True"
   ]
  },
  {
   "cell_type": "code",
   "execution_count": 33,
   "metadata": {},
   "outputs": [],
   "source": [
    "minElectronPt = 10.0\n",
    "maxElectronPt = 200.0\n",
    "\n",
    "minMuonPt = 0\n",
    "maxMuonPt = 200\n",
    "\n",
    "tmp = df[\n",
    "    ( (df[\"nElectron\"]>1) & (df[\"nMuon\"]>1))\n",
    "    &\n",
    "    ( (df[\"Electron_charge\"].apply(lambda x: all(x == -1)))\n",
    "        &\n",
    "        (\n",
    "            ( df[\"Electron_pt\"].apply(lambda x: anyCut(x, minElectronPt, maxElectronPt)) )\n",
    "            \n",
    "            |\n",
    "            \n",
    "            ( df[\"Muon_pt\"].apply(lambda x: allCut(x, minMuonPt, maxMuonPt)) )\n",
    "        )\n",
    "    )\n",
    "]"
   ]
  },
  {
   "cell_type": "code",
   "execution_count": 34,
   "metadata": {},
   "outputs": [
    {
     "data": {
      "text/html": [
       "<div>\n",
       "<style scoped>\n",
       "    .dataframe tbody tr th:only-of-type {\n",
       "        vertical-align: middle;\n",
       "    }\n",
       "\n",
       "    .dataframe tbody tr th {\n",
       "        vertical-align: top;\n",
       "    }\n",
       "\n",
       "    .dataframe thead th {\n",
       "        text-align: right;\n",
       "    }\n",
       "</style>\n",
       "<table border=\"1\" class=\"dataframe\">\n",
       "  <thead>\n",
       "    <tr style=\"text-align: right;\">\n",
       "      <th></th>\n",
       "      <th>nJet</th>\n",
       "      <th>nElectron</th>\n",
       "      <th>Electron_charge</th>\n",
       "      <th>Electron_pt</th>\n",
       "      <th>nMuon</th>\n",
       "      <th>Muon_charge</th>\n",
       "      <th>Muon_pt</th>\n",
       "    </tr>\n",
       "    <tr>\n",
       "      <th>entry</th>\n",
       "      <th></th>\n",
       "      <th></th>\n",
       "      <th></th>\n",
       "      <th></th>\n",
       "      <th></th>\n",
       "      <th></th>\n",
       "      <th></th>\n",
       "    </tr>\n",
       "  </thead>\n",
       "  <tbody>\n",
       "    <tr>\n",
       "      <th>302</th>\n",
       "      <td>6</td>\n",
       "      <td>2</td>\n",
       "      <td>[-1, -1]</td>\n",
       "      <td>[12.010416, 10.369589]</td>\n",
       "      <td>2</td>\n",
       "      <td>[1, -1]</td>\n",
       "      <td>[595.10864, 432.8126]</td>\n",
       "    </tr>\n",
       "    <tr>\n",
       "      <th>894</th>\n",
       "      <td>8</td>\n",
       "      <td>2</td>\n",
       "      <td>[-1, -1]</td>\n",
       "      <td>[12.432208, 11.08706]</td>\n",
       "      <td>2</td>\n",
       "      <td>[1, -1]</td>\n",
       "      <td>[573.36206, 386.0919]</td>\n",
       "    </tr>\n",
       "    <tr>\n",
       "      <th>1196</th>\n",
       "      <td>9</td>\n",
       "      <td>2</td>\n",
       "      <td>[-1, -1]</td>\n",
       "      <td>[61.089104, 8.276776]</td>\n",
       "      <td>2</td>\n",
       "      <td>[-1, 1]</td>\n",
       "      <td>[411.26385, 350.21576]</td>\n",
       "    </tr>\n",
       "    <tr>\n",
       "      <th>1387</th>\n",
       "      <td>7</td>\n",
       "      <td>2</td>\n",
       "      <td>[-1, -1]</td>\n",
       "      <td>[10.701129, 7.5116625]</td>\n",
       "      <td>2</td>\n",
       "      <td>[1, -1]</td>\n",
       "      <td>[424.54996, 389.8932]</td>\n",
       "    </tr>\n",
       "    <tr>\n",
       "      <th>1693</th>\n",
       "      <td>6</td>\n",
       "      <td>2</td>\n",
       "      <td>[-1, -1]</td>\n",
       "      <td>[10.73604, 5.6225777]</td>\n",
       "      <td>2</td>\n",
       "      <td>[-1, 1]</td>\n",
       "      <td>[355.2139, 328.4946]</td>\n",
       "    </tr>\n",
       "  </tbody>\n",
       "</table>\n",
       "</div>"
      ],
      "text/plain": [
       "       nJet  nElectron Electron_charge             Electron_pt  nMuon  \\\n",
       "entry                                                                   \n",
       "302       6          2        [-1, -1]  [12.010416, 10.369589]      2   \n",
       "894       8          2        [-1, -1]   [12.432208, 11.08706]      2   \n",
       "1196      9          2        [-1, -1]   [61.089104, 8.276776]      2   \n",
       "1387      7          2        [-1, -1]  [10.701129, 7.5116625]      2   \n",
       "1693      6          2        [-1, -1]   [10.73604, 5.6225777]      2   \n",
       "\n",
       "      Muon_charge                 Muon_pt  \n",
       "entry                                      \n",
       "302       [1, -1]   [595.10864, 432.8126]  \n",
       "894       [1, -1]   [573.36206, 386.0919]  \n",
       "1196      [-1, 1]  [411.26385, 350.21576]  \n",
       "1387      [1, -1]   [424.54996, 389.8932]  \n",
       "1693      [-1, 1]    [355.2139, 328.4946]  "
      ]
     },
     "execution_count": 34,
     "metadata": {},
     "output_type": "execute_result"
    }
   ],
   "source": [
    "tmp.head()"
   ]
  },
  {
   "cell_type": "code",
   "execution_count": 37,
   "metadata": {},
   "outputs": [
    {
     "data": {
      "text/plain": [
       "<matplotlib.axes._subplots.AxesSubplot at 0x7f3e4dffdc88>"
      ]
     },
     "execution_count": 37,
     "metadata": {},
     "output_type": "execute_result"
    },
    {
     "data": {
      "image/png": "[encoded data removed]",
      "text/plain": [
       "<Figure size 432x288 with 1 Axes>"
      ]
     },
     "metadata": {
      "needs_background": "light"
     },
     "output_type": "display_data"
    }
   ],
   "source": [
    "tmp[\"nJet\"].plot(kind=\"hist\", bins=range(0,25))"
   ]
  },
  {
   "cell_type": "markdown",
   "metadata": {},
   "source": [
    "## Awkward-array example"
   ]
  },
  {
   "cell_type": "markdown",
   "metadata": {},
   "source": [
    "*numpy* in a shell"
   ]
  },
  {
   "cell_type": "code",
   "execution_count": null,
   "metadata": {},
   "outputs": [],
   "source": [
    "import numpy as np\n",
    "\n",
    "x = np.array([[45,50,55,22],[45,20,55,22]])\n",
    "\n",
    "display(x)\n",
    "\n",
    "display((x>45).sum(axis = 1))\n",
    "display(((x>45).sum(axis = 1))>=2)"
   ]
  },
  {
   "cell_type": "markdown",
   "metadata": {},
   "source": [
    "Applying filters sequentially"
   ]
  },
  {
   "cell_type": "code",
   "execution_count": 100,
   "metadata": {},
   "outputs": [],
   "source": [
    "f = uproot.open(\"root://cmsxrootd.fnal.gov///store/mc/RunIISummer16NanoAODv6/DYJetsToTauTau_ForcedMuEleDecay_M-50_TuneCUETP8M1_13TeV-amcatnloFXFX-pythia8_ext1/NANOAODSIM/PUMoriond17_Nano25Oct2019_102X_mcRun2_asymptotic_v7_ext1-v1/270000/F0B896C1-0757-CC42-A5EF-F4E480D85C7D.root\")\n",
    "t = f[\"Events\"]"
   ]
  },
  {
   "cell_type": "code",
   "execution_count": 101,
   "metadata": {},
   "outputs": [],
   "source": [
    "tauBranches = [\"nTau\",\"Tau_pt\",\"Tau_eta\",\"Tau_charge\",\"Tau_mass\"]\n",
    "awk = t.lazyarrays(tauBranches + [\"nJet\"])"
   ]
  },
  {
   "cell_type": "code",
   "execution_count": 102,
   "metadata": {},
   "outputs": [
    {
     "data": {
      "text/plain": [
       "<Table [<Row 0> <Row 1> <Row 2> ... <Row 72855> <Row 72856> <Row 72857>] at 0x7f36ff51cba8>"
      ]
     },
     "execution_count": 102,
     "metadata": {},
     "output_type": "execute_result"
    }
   ],
   "source": [
    "awk"
   ]
  },
  {
   "cell_type": "markdown",
   "metadata": {},
   "source": [
    "Take only events with 2 or more 'taus'"
   ]
  },
  {
   "cell_type": "code",
   "execution_count": 103,
   "metadata": {},
   "outputs": [
    {
     "data": {
      "text/plain": [
       "<Table [<Row 34> <Row 42> <Row 52> ... <Row 72819> <Row 72828> <Row 72851>] at 0x7f36ff52ebe0>"
      ]
     },
     "execution_count": 103,
     "metadata": {},
     "output_type": "execute_result"
    }
   ],
   "source": [
    "tauCut = awk[awk[\"nTau\"]>=2]\n",
    "tauCut"
   ]
  },
  {
   "cell_type": "markdown",
   "metadata": {},
   "source": [
    "Only events with at least to 'taus' with a pt more than 40GeV"
   ]
  },
  {
   "cell_type": "code",
   "execution_count": 104,
   "metadata": {},
   "outputs": [
    {
     "data": {
      "text/plain": [
       "<Table [<Row 122> <Row 214> <Row 547> ... <Row 71236> <Row 72384> <Row 72390>] at 0x7f36ff538ba8>"
      ]
     },
     "execution_count": 104,
     "metadata": {},
     "output_type": "execute_result"
    }
   ],
   "source": [
    "tauCut = tauCut[(tauCut[\"Tau_pt\"]>40).sum() >= 2]\n",
    "tauCut"
   ]
  },
  {
   "cell_type": "markdown",
   "metadata": {},
   "source": [
    "Only events with at least one tau and one antitau"
   ]
  },
  {
   "cell_type": "code",
   "execution_count": 105,
   "metadata": {},
   "outputs": [],
   "source": [
    "tauCut = tauCut[\n",
    "    (tauCut[\"Tau_charge\"].max() == 1) & (tauCut[\"Tau_charge\"].min() == -1)\n",
    "]"
   ]
  },
  {
   "cell_type": "code",
   "execution_count": 106,
   "metadata": {},
   "outputs": [
    {
     "data": {
      "text/plain": [
       "<Table [<Row 214> <Row 547> <Row 614> ... <Row 71019> <Row 71236> <Row 72384>] at 0x7f36ff53fef0>"
      ]
     },
     "metadata": {},
     "output_type": "display_data"
    },
    {
     "data": {
      "text/plain": [
       "<ChunkedArray [[-1 -1 1] [1 -1] [1 -1] [-1 1 -1] [-1 1 -1] [1 -1] [-1 1] ...] at 0x7f36ffdb17b8>"
      ]
     },
     "metadata": {},
     "output_type": "display_data"
    },
    {
     "data": {
      "text/plain": [
       "<ChunkedArray [4 14 6 11 3 4 6 ...] at 0x7f36ff53fc50>"
      ]
     },
     "metadata": {},
     "output_type": "display_data"
    }
   ],
   "source": [
    "display(tauCut)\n",
    "display(tauCut[\"Tau_charge\"])\n",
    "display(tauCut[\"nJet\"])"
   ]
  },
  {
   "cell_type": "markdown",
   "metadata": {},
   "source": [
    "### Range based cuts"
   ]
  },
  {
   "cell_type": "code",
   "execution_count": 107,
   "metadata": {},
   "outputs": [
    {
     "data": {
      "text/plain": [
       "<Table [<Row 10660> <Row 41748>] at 0x7f36ff4e56d8>"
      ]
     },
     "execution_count": 107,
     "metadata": {},
     "output_type": "execute_result"
    }
   ],
   "source": [
    "minn = 100\n",
    "maxx = 150\n",
    "\n",
    "awk[\n",
    "    (awk[\"nTau\"]>=2) &\n",
    "    (awk[\"Tau_pt\"].min() >= minn) & \n",
    "    (awk[\"Tau_pt\"].max() <= maxx)\n",
    "]"
   ]
  }
 ],
 "metadata": {
  "kernelspec": {
   "display_name": "Python 3",
   "language": "python",
   "name": "python3"
  },
  "language_info": {
   "codemirror_mode": {
    "name": "ipython",
    "version": 3
   },
   "file_extension": ".py",
   "mimetype": "text/x-python",
   "name": "python",
   "nbconvert_exporter": "python",
   "pygments_lexer": "ipython3",
   "version": "3.6.8"
  }
 },
 "nbformat": 4,
 "nbformat_minor": 2
}
